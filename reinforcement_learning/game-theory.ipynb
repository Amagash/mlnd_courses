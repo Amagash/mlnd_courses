{
 "cells": [
  {
   "cell_type": "markdown",
   "metadata": {
    "collapsed": true
   },
   "source": [
    "# Game Theory\n",
    "\n",
    "Definition:\n",
    "- Mathematics of conflict of interest\n",
    "- Multiple agents (every single one having different interests)\n",
    "- Economics => like in biology, different cells, different genes being in \"conflicts\" who have different intentions"
   ]
  },
  {
   "cell_type": "markdown",
   "metadata": {
    "collapsed": true
   },
   "source": [
    "## A simple game\n",
    "\n",
    "Let's define the game : **2-player zero-sum finite determinitic game of perfect information**\n",
    "\n",
    "- There are two players because a and b\n",
    "- Zero-sum because a always gets the opposite of what b gets\n",
    "- Finite because finite number of choices/state/depth\n",
    "- Deterministic because no stochastic transition\n",
    "- Perfect information because you know what state you're in\n",
    "\n",
    "![alt text](simple-game.png \"game-tree\")\n",
    "\n",
    "Let's right all the possible strategies for a and for b :\n",
    "\n",
    "![](matrice.png)\n",
    "\n",
    "A and B must consider the worst case counter strategy. In this case A is always trying to maximize itself and B is always trying to minimize A. A is going to search for the maximum minimum and B is searching for the minimum maximum. This strategy is called **minimax**."
   ]
  },
  {
   "cell_type": "markdown",
   "metadata": {
    "collapsed": true
   },
   "source": [
    "## Fundamental result\n",
    "\n",
    "Theorem 1 :\n",
    "In a 2-player zero-sum finite determinitic game of perfect information, Minimax $\\equiv$ Maximin and there always exists an optimal pure strategy for each player.\n",
    "\n",
    "Now let's see a game that is non-deterministic :\n",
    "\n",
    "![](non-deterministic.png)\n",
    "\n",
    "Von Neumann theorem : The theorem that we used before is still true in the case of non-deterministic games.\n"
   ]
  },
  {
   "cell_type": "markdown",
   "metadata": {},
   "source": [
    "## Minipoker\n",
    "\n",
    "Now let's see a game that is not perfect but hidden :\n",
    "\n",
    "![](hidden.png)\n",
    "![](hidden-tree.png)\n",
    "![](mixed-strategy.png)\n",
    "![](lines.png)\n",
    "![](nash.png)\n",
    "![](equilibrium.png)"
   ]
  },
  {
   "cell_type": "code",
   "execution_count": null,
   "metadata": {
    "collapsed": true
   },
   "outputs": [],
   "source": []
  }
 ],
 "metadata": {
  "kernelspec": {
   "display_name": "Python 2",
   "language": "python",
   "name": "python2"
  },
  "language_info": {
   "codemirror_mode": {
    "name": "ipython",
    "version": 2
   },
   "file_extension": ".py",
   "mimetype": "text/x-python",
   "name": "python",
   "nbconvert_exporter": "python",
   "pygments_lexer": "ipython2",
   "version": "2.7.14"
  }
 },
 "nbformat": 4,
 "nbformat_minor": 1
}
